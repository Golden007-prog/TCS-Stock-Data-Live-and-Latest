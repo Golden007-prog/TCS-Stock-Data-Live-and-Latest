{
 "cells": [
  {
   "cell_type": "markdown",
   "metadata": {},
   "source": [
    "# Final Data Layer - TCS Stock Prediction\n",
    "\n",
    "This notebook fetches:\n",
    "- TCS stock data across 6 different time horizons\n",
    "- NIFTY50 & USD/INR macro indicators\n",
    "- Latest news headlines for TCS"
   ]
  },
  {
   "cell_type": "code",
   "execution_count": 1,
   "id": "4fdf2e98",
   "metadata": {},
   "outputs": [],
   "source": [
    "import yfinance as yf\n",
    "import pandas as pd\n",
    "import numpy as np\n",
    "import os\n",
    "from GoogleNews import GoogleNews\n",
    "\n",
    "# Ensure data directory exists\n",
    "os.makedirs('data', exist_ok=True)"
   ]
  },
  {
   "cell_type": "markdown",
   "id": "746d357f",
   "metadata": {},
   "source": [
    "## TCS Data (Multi-Horizon)"
   ]
  },
  {
   "cell_type": "code",
   "execution_count": 2,
   "id": "9f02d1f1",
   "metadata": {},
   "outputs": [
    {
     "name": "stdout",
     "output_type": "stream",
     "text": [
      "YF.download() has changed argument auto_adjust default to True\n"
     ]
    },
    {
     "name": "stderr",
     "output_type": "stream",
     "text": [
      "[*********************100%***********************]  1 of 1 completed"
     ]
    },
    {
     "name": "stdout",
     "output_type": "stream",
     "text": [
      "1D Data:\n",
      "Price                            Close         High          Low         Open  \\\n",
      "Ticker                          TCS.NS       TCS.NS       TCS.NS       TCS.NS   \n",
      "Datetime                                                                        \n",
      "2025-05-08 03:45:00+00:00  3438.100098  3441.699951  3433.699951  3441.699951   \n",
      "2025-05-08 03:46:00+00:00  3439.000000  3439.699951  3433.300049  3438.199951   \n",
      "2025-05-08 03:47:00+00:00  3443.899902  3444.500000  3438.600098  3438.600098   \n",
      "2025-05-08 03:48:00+00:00  3451.300049  3453.000000  3443.399902  3443.399902   \n",
      "2025-05-08 03:49:00+00:00  3462.000000  3463.600098  3452.800049  3452.800049   \n",
      "\n",
      "Price                     Volume        Date  \n",
      "Ticker                    TCS.NS              \n",
      "Datetime                                      \n",
      "2025-05-08 03:45:00+00:00      0  2025-05-08  \n",
      "2025-05-08 03:46:00+00:00  28171  2025-05-08  \n",
      "2025-05-08 03:47:00+00:00  13759  2025-05-08  \n",
      "2025-05-08 03:48:00+00:00  15780  2025-05-08  \n",
      "2025-05-08 03:49:00+00:00  13470  2025-05-08  \n"
     ]
    },
    {
     "name": "stderr",
     "output_type": "stream",
     "text": [
      "\n"
     ]
    }
   ],
   "source": [
    "# 1D: 1-minute interval for 7 days\n",
    "tcs_1d = yf.download('TCS.NS', interval='1m', period='7d')\n",
    "tcs_1d['Date'] = tcs_1d.index.date\n",
    "tcs_1d.to_csv('data/tcs_1d_1min.csv')\n",
    "print(\"1D Data:\")\n",
    "print(tcs_1d.head())"
   ]
  },
  {
   "cell_type": "code",
   "execution_count": 3,
   "id": "6879a427",
   "metadata": {},
   "outputs": [
    {
     "name": "stderr",
     "output_type": "stream",
     "text": [
      "[*********************100%***********************]  1 of 1 completed"
     ]
    },
    {
     "name": "stdout",
     "output_type": "stream",
     "text": [
      "5D Data:\n",
      "Price                            Close         High          Low         Open  \\\n",
      "Ticker                          TCS.NS       TCS.NS       TCS.NS       TCS.NS   \n",
      "Datetime                                                                        \n",
      "2025-04-17 04:00:00+00:00  3235.199951  3240.699951  3218.199951  3226.100098   \n",
      "2025-04-17 04:30:00+00:00  3230.899902  3235.899902  3225.199951  3235.199951   \n",
      "2025-04-17 05:00:00+00:00  3235.100098  3242.000000  3230.800049  3230.800049   \n",
      "2025-04-17 05:30:00+00:00  3251.300049  3252.800049  3232.899902  3235.100098   \n",
      "2025-04-17 06:00:00+00:00  3256.899902  3262.300049  3249.199951  3251.300049   \n",
      "\n",
      "Price                      Volume        Date  \n",
      "Ticker                     TCS.NS              \n",
      "Datetime                                       \n",
      "2025-04-17 04:00:00+00:00  298859  2025-04-17  \n",
      "2025-04-17 04:30:00+00:00  165792  2025-04-17  \n",
      "2025-04-17 05:00:00+00:00   99767  2025-04-17  \n",
      "2025-04-17 05:30:00+00:00  189309  2025-04-17  \n",
      "2025-04-17 06:00:00+00:00  217386  2025-04-17  \n"
     ]
    },
    {
     "name": "stderr",
     "output_type": "stream",
     "text": [
      "\n"
     ]
    }
   ],
   "source": [
    "# 5D: 30-minute interval for 20 days\n",
    "tcs_5d = yf.download('TCS.NS', interval='30m', period='20d')\n",
    "tcs_5d['Date'] = tcs_5d.index.date\n",
    "tcs_5d.to_csv('data/tcs_5d_30min.csv')\n",
    "print(\"5D Data:\")\n",
    "print(tcs_5d.head())"
   ]
  },
  {
   "cell_type": "code",
   "execution_count": 4,
   "id": "8e791e08",
   "metadata": {},
   "outputs": [
    {
     "name": "stderr",
     "output_type": "stream",
     "text": [
      "[*********************100%***********************]  1 of 1 completed"
     ]
    },
    {
     "name": "stdout",
     "output_type": "stream",
     "text": [
      "1M Data:\n",
      "Price             Close         High          Low         Open   Volume  \\\n",
      "Ticker           TCS.NS       TCS.NS       TCS.NS       TCS.NS   TCS.NS   \n",
      "Date                                                                      \n",
      "2024-11-18  4009.944092  4202.984067  3980.713701  4202.984067  3313944   \n",
      "2024-11-19  4029.946533  4122.326242  4004.557086  4010.343102  1776233   \n",
      "2024-11-21  4063.167236  4082.720493  4014.433276  4035.283490  2384347   \n",
      "2024-11-22  4234.508789  4244.834280  4044.361833  4061.321416  3096553   \n",
      "2024-11-25  4304.841309  4317.810402  4242.090945  4269.824658  4052167   \n",
      "\n",
      "Price             Date  \n",
      "Ticker                  \n",
      "Date                    \n",
      "2024-11-18  2024-11-18  \n",
      "2024-11-19  2024-11-19  \n",
      "2024-11-21  2024-11-21  \n",
      "2024-11-22  2024-11-22  \n",
      "2024-11-25  2024-11-25  \n"
     ]
    },
    {
     "name": "stderr",
     "output_type": "stream",
     "text": [
      "\n"
     ]
    }
   ],
   "source": [
    "# 1M: Daily interval for 6 months\n",
    "tcs_1m = yf.download('TCS.NS', interval='1d', period='6mo')\n",
    "tcs_1m['Date'] = tcs_1m.index.date\n",
    "tcs_1m.to_csv('data/tcs_1m_1d.csv')\n",
    "print(\"1M Data:\")\n",
    "print(tcs_1m.head())"
   ]
  },
  {
   "cell_type": "code",
   "execution_count": 5,
   "id": "f24be4b8",
   "metadata": {},
   "outputs": [
    {
     "name": "stderr",
     "output_type": "stream",
     "text": [
      "[*********************100%***********************]  1 of 1 completed"
     ]
    },
    {
     "name": "stdout",
     "output_type": "stream",
     "text": [
      "6M Data:\n",
      "Price             Close         High          Low         Open   Volume  \\\n",
      "Ticker           TCS.NS       TCS.NS       TCS.NS       TCS.NS   TCS.NS   \n",
      "Date                                                                      \n",
      "2024-05-16  3873.208984  3881.698231  3816.167579  3863.429176  2599399   \n",
      "2024-05-17  3806.834717  3892.123760  3802.763776  3891.130872  2765804   \n",
      "2024-05-21  3793.033447  3817.408914  3782.955724  3803.359635  1908117   \n",
      "2024-05-22  3804.749268  3813.933487  3790.402075  3807.727933  1311168   \n",
      "2024-05-23  3865.762207  3877.230119  3798.295473  3813.635554  2095742   \n",
      "\n",
      "Price             Date  \n",
      "Ticker                  \n",
      "Date                    \n",
      "2024-05-16  2024-05-16  \n",
      "2024-05-17  2024-05-17  \n",
      "2024-05-21  2024-05-21  \n",
      "2024-05-22  2024-05-22  \n",
      "2024-05-23  2024-05-23  \n"
     ]
    },
    {
     "name": "stderr",
     "output_type": "stream",
     "text": [
      "\n"
     ]
    }
   ],
   "source": [
    "# 6M: Daily interval for 1 year\n",
    "tcs_6m = yf.download('TCS.NS', interval='1d', period='1y')\n",
    "tcs_6m['Date'] = tcs_6m.index.date\n",
    "tcs_6m.to_csv('data/tcs_6m_1d.csv')\n",
    "print(\"6M Data:\")\n",
    "print(tcs_6m.head())"
   ]
  },
  {
   "cell_type": "code",
   "execution_count": 6,
   "id": "38c0d2e4",
   "metadata": {},
   "outputs": [
    {
     "name": "stderr",
     "output_type": "stream",
     "text": [
      "[*********************100%***********************]  1 of 1 completed"
     ]
    },
    {
     "name": "stdout",
     "output_type": "stream",
     "text": [
      "1Y Data:\n",
      "Price             Close         High          Low         Open   Volume  \\\n",
      "Ticker           TCS.NS       TCS.NS       TCS.NS       TCS.NS   TCS.NS   \n",
      "Date                                                                      \n",
      "2023-05-16  3164.139893  3190.215263  3156.662114  3162.246205   986306   \n",
      "2023-05-17  3116.116943  3185.359719  3105.968512  3162.003604  1588815   \n",
      "2023-05-18  3107.522461  3135.782675  3102.812307  3132.869236  1369364   \n",
      "2023-05-19  3129.858643  3141.172401  3110.629900  3117.379319  1152449   \n",
      "2023-05-22  3203.520020  3212.988695  3124.226025  3136.802321  1333243   \n",
      "\n",
      "Price             Date  \n",
      "Ticker                  \n",
      "Date                    \n",
      "2023-05-16  2023-05-16  \n",
      "2023-05-17  2023-05-17  \n",
      "2023-05-18  2023-05-18  \n",
      "2023-05-19  2023-05-19  \n",
      "2023-05-22  2023-05-22  \n"
     ]
    },
    {
     "name": "stderr",
     "output_type": "stream",
     "text": [
      "\n"
     ]
    }
   ],
   "source": [
    "# 1Y: Daily interval for 2 years\n",
    "tcs_1y = yf.download('TCS.NS', interval='1d', period='2y')\n",
    "tcs_1y['Date'] = tcs_1y.index.date\n",
    "tcs_1y.to_csv('data/tcs_1y_1d.csv')\n",
    "print(\"1Y Data:\")\n",
    "print(tcs_1y.head())"
   ]
  },
  {
   "cell_type": "code",
   "execution_count": 7,
   "id": "24ad2ae0",
   "metadata": {},
   "outputs": [
    {
     "name": "stderr",
     "output_type": "stream",
     "text": [
      "[*********************100%***********************]  1 of 1 completed"
     ]
    },
    {
     "name": "stdout",
     "output_type": "stream",
     "text": [
      "5Y Data:\n",
      "Price             Close         High          Low         Open    Volume  \\\n",
      "Ticker           TCS.NS       TCS.NS       TCS.NS       TCS.NS    TCS.NS   \n",
      "Date                                                                       \n",
      "2020-05-18  1858.817017  1869.535587  1722.420043  1754.529707  16769218   \n",
      "2020-05-25  1814.654419  1862.174862  1771.090222  1858.816669  18770893   \n",
      "2020-06-01  1884.486328  1932.098762  1822.705148  1830.893589  17513340   \n",
      "2020-06-08  1881.951538  1967.306045  1855.653122  1917.708156  16147832   \n",
      "2020-06-15  1886.657593  1928.550531  1846.379469  1881.582460  14875224   \n",
      "\n",
      "Price             Date  \n",
      "Ticker                  \n",
      "Date                    \n",
      "2020-05-18  2020-05-18  \n",
      "2020-05-25  2020-05-25  \n",
      "2020-06-01  2020-06-01  \n",
      "2020-06-08  2020-06-08  \n",
      "2020-06-15  2020-06-15  \n"
     ]
    },
    {
     "name": "stderr",
     "output_type": "stream",
     "text": [
      "\n"
     ]
    }
   ],
   "source": [
    "# 5Y: Weekly interval for 10 years\n",
    "tcs_5y = yf.download('TCS.NS', interval='1wk', period='5y')\n",
    "tcs_5y['Date'] = tcs_5y.index.date\n",
    "tcs_5y.to_csv('data/tcs_5y_7d.csv')\n",
    "print(\"5Y Data:\")\n",
    "print(tcs_5y.head())"
   ]
  },
  {
   "cell_type": "markdown",
   "id": "678e502e",
   "metadata": {},
   "source": [
    "## Macro Economic Indicators"
   ]
  },
  {
   "cell_type": "code",
   "execution_count": 8,
   "id": "93f1619c",
   "metadata": {},
   "outputs": [
    {
     "name": "stderr",
     "output_type": "stream",
     "text": [
      "[*********************100%***********************]  1 of 1 completed"
     ]
    },
    {
     "name": "stdout",
     "output_type": "stream",
     "text": [
      "NIFTY50:\n",
      "Price             Close         High          Low         Open  Volume  \\\n",
      "Ticker            ^NSEI        ^NSEI        ^NSEI        ^NSEI   ^NSEI   \n",
      "Date                                                                     \n",
      "2020-05-18  8823.250000  9158.299805  8806.750000  9158.299805  773000   \n",
      "2020-05-19  8879.099609  9030.349609  8855.299805  8961.700195  762200   \n",
      "2020-05-20  9066.549805  9093.799805  8875.349609  8889.150391  622300   \n",
      "2020-05-21  9106.250000  9178.549805  9056.099609  9079.450195  631500   \n",
      "2020-05-22  9039.250000  9149.599609  8968.549805  9067.900391  675800   \n",
      "\n",
      "Price             Date  \n",
      "Ticker                  \n",
      "Date                    \n",
      "2020-05-18  2020-05-18  \n",
      "2020-05-19  2020-05-19  \n",
      "2020-05-20  2020-05-20  \n",
      "2020-05-21  2020-05-21  \n",
      "2020-05-22  2020-05-22  \n"
     ]
    },
    {
     "name": "stderr",
     "output_type": "stream",
     "text": [
      "\n"
     ]
    }
   ],
   "source": [
    "# NIFTY50 Index\n",
    "nifty50 = yf.download('^NSEI', interval='1d', period='5y')\n",
    "nifty50['Date'] = nifty50.index.date\n",
    "nifty50.to_csv('data/nifty50.csv')\n",
    "print(\"NIFTY50:\")\n",
    "print(nifty50.head())"
   ]
  },
  {
   "cell_type": "code",
   "execution_count": 9,
   "id": "95780aed",
   "metadata": {},
   "outputs": [
    {
     "name": "stderr",
     "output_type": "stream",
     "text": [
      "[*********************100%***********************]  1 of 1 completed"
     ]
    },
    {
     "name": "stdout",
     "output_type": "stream",
     "text": [
      "USD/INR:\n",
      "Price           Close       High        Low       Open   Volume        Date\n",
      "Ticker       USDINR=X   USDINR=X   USDINR=X   USDINR=X USDINR=X            \n",
      "Date                                                                       \n",
      "2020-05-18  75.820000  76.092003  75.612396  75.820000        0  2020-05-18\n",
      "2020-05-19  75.600098  76.040001  75.527496  75.599998        0  2020-05-19\n",
      "2020-05-20  76.000000  76.000000  75.462997  75.699997        0  2020-05-20\n",
      "2020-05-21  75.779999  75.919998  75.416000  75.779999        0  2020-05-21\n",
      "2020-05-22  75.625000  76.209503  75.610001  75.625000        0  2020-05-22\n"
     ]
    },
    {
     "name": "stderr",
     "output_type": "stream",
     "text": [
      "\n"
     ]
    }
   ],
   "source": [
    "# USD/INR Exchange Rate\n",
    "usdinr = yf.download('USDINR=X', interval='1d', period='5y')\n",
    "usdinr['Date'] = usdinr.index.date\n",
    "usdinr.to_csv('data/usdinr.csv')\n",
    "print(\"USD/INR:\")\n",
    "print(usdinr.head())"
   ]
  },
  {
   "cell_type": "markdown",
   "id": "77cff51c",
   "metadata": {},
   "source": [
    "## News Headlines"
   ]
  },
  {
   "cell_type": "code",
   "execution_count": 10,
   "id": "f6f6ff52",
   "metadata": {},
   "outputs": [
    {
     "name": "stdout",
     "output_type": "stream",
     "text": [
      "                                               title             media  \\\n",
      "0  TCS, HDFC, Airtel and Infosys ranked among the...  AffairsCloud.com   \n",
      "1  TCS Senior Employees Variable Pay Cut: Bold Co...  Hindustan Herald   \n",
      "2  Months after Ratan Tata's death, THIS Tata Gro...               MSN   \n",
      "3         TCS ranks 45th among top-100 global brands    The Hans India   \n",
      "4          TCS Ranks #45 Among Top-100 Global Brands          BizzBuzz   \n",
      "\n",
      "            date                   datetime  \\\n",
      "0    0 hours ago 2025-05-17 14:42:28.764526   \n",
      "1  6 minutes ago 2025-05-17 14:36:27.928522   \n",
      "2    1 hours ago 2025-05-17 13:42:28.764526   \n",
      "3    4 hours ago 2025-05-17 10:42:28.756981   \n",
      "4    6 hours ago 2025-05-17 08:42:28.763018   \n",
      "\n",
      "                                                desc  \\\n",
      "0  According to the Kantar BrandZ, “2025 World's ...   \n",
      "1  India's largest IT services company, Tata Cons...   \n",
      "2  The milestone achievement by Tata Consultancy ...   \n",
      "3  Hyderabad: Tata Consultancy Services (TCS), a ...   \n",
      "4  Hyderabad: Tata Consultancy Services (TCS), a ...   \n",
      "\n",
      "                                                link  \\\n",
      "0  https://affairscloud.com/tcs-hdfc-airtel-and-i...   \n",
      "1  https://hindustanherald.com/tcs-senior-employe...   \n",
      "2  https://www.msn.com/en-in/money/topstories/mon...   \n",
      "3  https://www.thehansindia.com/business/tcs-rank...   \n",
      "4  https://www.bizzbuzz.news/corporate/tcs-ranks-...   \n",
      "\n",
      "                                                 img  \n",
      "0  data:image/gif;base64,R0lGODlhAQABAIAAAP//////...  \n",
      "1  data:image/gif;base64,R0lGODlhAQABAIAAAP//////...  \n",
      "2  data:image/gif;base64,R0lGODlhAQABAIAAAP//////...  \n",
      "3  data:image/gif;base64,R0lGODlhAQABAIAAAP//////...  \n",
      "4  data:image/gif;base64,R0lGODlhAQABAIAAAP//////...  \n"
     ]
    }
   ],
   "source": [
    "# Scrape recent news on TCS\n",
    "googlenews = GoogleNews(lang='en', period='7d')\n",
    "googlenews.search('Tata Consultancy Services')\n",
    "news_results = googlenews.results(sort=True)\n",
    "news_df = pd.DataFrame(news_results)\n",
    "news_df.to_csv('data/tcs_news.csv', index=False)\n",
    "print(news_df.head())"
   ]
  }
 ],
 "metadata": {
  "kernelspec": {
   "display_name": ".venv",
   "language": "python",
   "name": "python3"
  },
  "language_info": {
   "codemirror_mode": {
    "name": "ipython",
    "version": 3
   },
   "file_extension": ".py",
   "mimetype": "text/x-python",
   "name": "python",
   "nbconvert_exporter": "python",
   "pygments_lexer": "ipython3",
   "version": "3.12.10"
  }
 },
 "nbformat": 4,
 "nbformat_minor": 5
}
